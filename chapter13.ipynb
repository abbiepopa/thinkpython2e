{
 "cells": [
  {
   "cell_type": "code",
   "execution_count": 29,
   "metadata": {
    "collapsed": true
   },
   "outputs": [],
   "source": [
    "import string"
   ]
  },
  {
   "cell_type": "code",
   "execution_count": 43,
   "metadata": {},
   "outputs": [],
   "source": [
    "def make_tokens(file_name):\n",
    "    fin = open(file_name)\n",
    "    words = []\n",
    "    for line in fin:\n",
    "        for word in line.split():\n",
    "            word = word.lower()\n",
    "            for char in string.punctuation:\n",
    "                word = word.replace(char, '')\n",
    "            words.append(word)\n",
    "    return(words)"
   ]
  },
  {
   "cell_type": "code",
   "execution_count": 44,
   "metadata": {},
   "outputs": [
    {
     "data": {
      "text/plain": [
       "['i',\n",
       " 'am',\n",
       " 'a',\n",
       " 'test',\n",
       " 'file',\n",
       " 'i',\n",
       " 'have',\n",
       " 'words',\n",
       " 'whitespace',\n",
       " 'and',\n",
       " 'punctuation']"
      ]
     },
     "execution_count": 44,
     "metadata": {},
     "output_type": "execute_result"
    }
   ],
   "source": [
    "make_tokens('ch13_test_file.txt')"
   ]
  },
  {
   "cell_type": "code",
   "execution_count": 47,
   "metadata": {},
   "outputs": [],
   "source": [
    "def make_book_tokens(file_name):\n",
    "    fin = open(file_name)\n",
    "    words = []\n",
    "    for line in fin:\n",
    "        while '*** START OF THIS PROJECT GUTENBERG EBOOK' not in line:\n",
    "            pass \n",
    "        for word in line.split():\n",
    "            word = word.lower()\n",
    "            for char in string.punctuation:\n",
    "                word = word.replace(char, '')\n",
    "            words.append(word)\n",
    "    return(words[1:10])"
   ]
  },
  {
   "cell_type": "code",
   "execution_count": null,
   "metadata": {
    "collapsed": true
   },
   "outputs": [],
   "source": [
    "make_book_tokens('dracula.txt')"
   ]
  },
  {
   "cell_type": "code",
   "execution_count": null,
   "metadata": {
    "collapsed": true
   },
   "outputs": [],
   "source": []
  }
 ],
 "metadata": {
  "kernelspec": {
   "display_name": "Python 3",
   "language": "python",
   "name": "python3"
  },
  "language_info": {
   "codemirror_mode": {
    "name": "ipython",
    "version": 3
   },
   "file_extension": ".py",
   "mimetype": "text/x-python",
   "name": "python",
   "nbconvert_exporter": "python",
   "pygments_lexer": "ipython3",
   "version": "3.5.3"
  }
 },
 "nbformat": 4,
 "nbformat_minor": 2
}
