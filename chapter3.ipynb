{
 "cells": [
  {
   "cell_type": "markdown",
   "metadata": {},
   "source": [
    "### Exercise 1  \n",
    "Write a function named right_justify that takes a string named s as a parameter and prints the string with enough leading spaces so that the last letter of the string is in column 70 of the display.\n",
    "\n",
    "\\>>> right_justify('monty')\n",
    "                                                                 monty\n",
    "\n",
    "Hint: Use string concatenation and repetition. Also, Python provides a built-in function called len that returns the length of a string, so the value of len('monty') is 5."
   ]
  },
  {
   "cell_type": "code",
   "execution_count": 1,
   "metadata": {
    "collapsed": true
   },
   "outputs": [],
   "source": [
    "def right_justify(s):\n",
    "    spaces = 70 - len(s)\n",
    "    out = (\" \"*spaces) + s\n",
    "    print(out)"
   ]
  },
  {
   "cell_type": "code",
   "execution_count": 3,
   "metadata": {
    "collapsed": false
   },
   "outputs": [
    {
     "name": "stdout",
     "output_type": "stream",
     "text": [
      "                                                                 Abbie\n",
      "                                                 Ripleyxander Catilton\n"
     ]
    }
   ],
   "source": [
    "right_justify(\"Abbie\")\n",
    "right_justify(\"Ripleyxander Catilton\")"
   ]
  },
  {
   "cell_type": "markdown",
   "metadata": {},
   "source": [
    "### Exercise 2  \n",
    "A function object is a value you can assign to a variable or pass as an argument. For example, do_twice is a function that takes a function object as an argument and calls it twice:\n",
    "\n",
    "def do_twice(f):\n",
    "\n",
    "    f()\n",
    "    f()\n",
    "    \n",
    "Here’s an example that uses do_twice to call a function named print_spam twice.\n",
    "def print_spam():\n",
    "    print('spam')\n",
    "\n",
    "do_twice(print_spam)\n",
    "\n",
    "1. Type this example into a script and test it.\n",
    "2. Modify do_twice so that it takes two arguments, a function object and a value, and calls the function twice, passing the value as an argument.\n",
    "3. Copy the definition of print_twice from earlier in this chapter to your script.\n",
    "4. Use the modified version of do_twice to call print_twice twice, passing 'spam' as an argument.\n",
    "5. Define a new function called do_four that takes a function object and a value and calls the function four times, passing the value as a parameter. There should be only two statements in the body of this function, not four.\n",
    "\n",
    "Solution: http://thinkpython2.com/code/do_four.py."
   ]
  },
  {
   "cell_type": "code",
   "execution_count": 4,
   "metadata": {
    "collapsed": false
   },
   "outputs": [
    {
     "name": "stdout",
     "output_type": "stream",
     "text": [
      "spam\n",
      "spam\n"
     ]
    }
   ],
   "source": [
    "def do_twice(f):\n",
    "    f()\n",
    "    f()\n",
    "    \n",
    "def print_spam():\n",
    "    print('spam')\n",
    "    \n",
    "do_twice(print_spam)\n",
    "    "
   ]
  },
  {
   "cell_type": "code",
   "execution_count": 5,
   "metadata": {
    "collapsed": false
   },
   "outputs": [
    {
     "name": "stdout",
     "output_type": "stream",
     "text": [
      "spam\n",
      "spam\n",
      "spam\n",
      "spam\n"
     ]
    }
   ],
   "source": [
    "def do_twice(f, v):\n",
    "    f(v)\n",
    "    f(v)\n",
    "    \n",
    "def print_twice(bruce):\n",
    "    print(bruce)\n",
    "    print(bruce)\n",
    "    \n",
    "do_twice(print_twice, \"spam\")"
   ]
  },
  {
   "cell_type": "code",
   "execution_count": 9,
   "metadata": {
    "collapsed": false
   },
   "outputs": [
    {
     "name": "stdout",
     "output_type": "stream",
     "text": [
      "hedgehog\n",
      "hedgehog\n",
      "hedgehog\n",
      "hedgehog\n"
     ]
    }
   ],
   "source": [
    "def do_four(f,v):\n",
    "    do_twice(f,v)\n",
    "    do_twice(f,v)\n",
    "    \n",
    "do_four(print, \"hedgehog\")"
   ]
  },
  {
   "cell_type": "markdown",
   "metadata": {},
   "source": [
    "### Exercise 3  \n",
    "Note: This exercise should be done using only the statements and other features we have learned so far.\n",
    "\n",
    "Write a function that draws a grid like the following:\n",
    "\n",
    "\\+&nbsp;&nbsp; -&nbsp;&nbsp; -&nbsp;&nbsp; -&nbsp;&nbsp; -&nbsp;&nbsp; +&nbsp;&nbsp; -&nbsp;&nbsp; -&nbsp;&nbsp; -&nbsp;&nbsp; -&nbsp;&nbsp; + <br>\n",
    "\\|&nbsp;&nbsp;&nbsp;&nbsp;&nbsp;&nbsp;&nbsp;&nbsp;&nbsp;&nbsp;&nbsp;&nbsp;&nbsp;&nbsp;&nbsp;&nbsp;&nbsp;&nbsp;&nbsp;&nbsp;&nbsp;&nbsp;&nbsp;|&nbsp;&nbsp;&nbsp;&nbsp;&nbsp;&nbsp;&nbsp;&nbsp;&nbsp;&nbsp;&nbsp;&nbsp;&nbsp;&nbsp;&nbsp;&nbsp;&nbsp;&nbsp;&nbsp;&nbsp;&nbsp;&nbsp;|<br>\n",
    "\\|&nbsp;&nbsp;&nbsp;&nbsp;&nbsp;&nbsp;&nbsp;&nbsp;&nbsp;&nbsp;&nbsp;&nbsp;&nbsp;&nbsp;&nbsp;&nbsp;&nbsp;&nbsp;&nbsp;&nbsp;&nbsp;&nbsp;&nbsp;|&nbsp;&nbsp;&nbsp;&nbsp;&nbsp;&nbsp;&nbsp;&nbsp;&nbsp;&nbsp;&nbsp;&nbsp;&nbsp;&nbsp;&nbsp;&nbsp;&nbsp;&nbsp;&nbsp;&nbsp;&nbsp;&nbsp;|<br>\n",
    "\\|&nbsp;&nbsp;&nbsp;&nbsp;&nbsp;&nbsp;&nbsp;&nbsp;&nbsp;&nbsp;&nbsp;&nbsp;&nbsp;&nbsp;&nbsp;&nbsp;&nbsp;&nbsp;&nbsp;&nbsp;&nbsp;&nbsp;&nbsp;|&nbsp;&nbsp;&nbsp;&nbsp;&nbsp;&nbsp;&nbsp;&nbsp;&nbsp;&nbsp;&nbsp;&nbsp;&nbsp;&nbsp;&nbsp;&nbsp;&nbsp;&nbsp;&nbsp;&nbsp;&nbsp;&nbsp;|<br>\n",
    "\\|&nbsp;&nbsp;&nbsp;&nbsp;&nbsp;&nbsp;&nbsp;&nbsp;&nbsp;&nbsp;&nbsp;&nbsp;&nbsp;&nbsp;&nbsp;&nbsp;&nbsp;&nbsp;&nbsp;&nbsp;&nbsp;&nbsp;&nbsp;|&nbsp;&nbsp;&nbsp;&nbsp;&nbsp;&nbsp;&nbsp;&nbsp;&nbsp;&nbsp;&nbsp;&nbsp;&nbsp;&nbsp;&nbsp;&nbsp;&nbsp;&nbsp;&nbsp;&nbsp;&nbsp;&nbsp;|<br>\n",
    "\\+&nbsp;&nbsp; -&nbsp;&nbsp; -&nbsp;&nbsp; -&nbsp;&nbsp; -&nbsp;&nbsp; +&nbsp;&nbsp; -&nbsp;&nbsp; -&nbsp;&nbsp; -&nbsp;&nbsp; -&nbsp;&nbsp; +<br>\n",
    "\\|&nbsp;&nbsp;&nbsp;&nbsp;&nbsp;&nbsp;&nbsp;&nbsp;&nbsp;&nbsp;&nbsp;&nbsp;&nbsp;&nbsp;&nbsp;&nbsp;&nbsp;&nbsp;&nbsp;&nbsp;&nbsp;&nbsp;&nbsp;|&nbsp;&nbsp;&nbsp;&nbsp;&nbsp;&nbsp;&nbsp;&nbsp;&nbsp;&nbsp;&nbsp;&nbsp;&nbsp;&nbsp;&nbsp;&nbsp;&nbsp;&nbsp;&nbsp;&nbsp;&nbsp;&nbsp;|<br>\n",
    "\\|&nbsp;&nbsp;&nbsp;&nbsp;&nbsp;&nbsp;&nbsp;&nbsp;&nbsp;&nbsp;&nbsp;&nbsp;&nbsp;&nbsp;&nbsp;&nbsp;&nbsp;&nbsp;&nbsp;&nbsp;&nbsp;&nbsp;&nbsp;|&nbsp;&nbsp;&nbsp;&nbsp;&nbsp;&nbsp;&nbsp;&nbsp;&nbsp;&nbsp;&nbsp;&nbsp;&nbsp;&nbsp;&nbsp;&nbsp;&nbsp;&nbsp;&nbsp;&nbsp;&nbsp;&nbsp;|<br>\n",
    "\\|&nbsp;&nbsp;&nbsp;&nbsp;&nbsp;&nbsp;&nbsp;&nbsp;&nbsp;&nbsp;&nbsp;&nbsp;&nbsp;&nbsp;&nbsp;&nbsp;&nbsp;&nbsp;&nbsp;&nbsp;&nbsp;&nbsp;&nbsp;|&nbsp;&nbsp;&nbsp;&nbsp;&nbsp;&nbsp;&nbsp;&nbsp;&nbsp;&nbsp;&nbsp;&nbsp;&nbsp;&nbsp;&nbsp;&nbsp;&nbsp;&nbsp;&nbsp;&nbsp;&nbsp;&nbsp;|<br>\n",
    "\\|&nbsp;&nbsp;&nbsp;&nbsp;&nbsp;&nbsp;&nbsp;&nbsp;&nbsp;&nbsp;&nbsp;&nbsp;&nbsp;&nbsp;&nbsp;&nbsp;&nbsp;&nbsp;&nbsp;&nbsp;&nbsp;&nbsp;&nbsp;|&nbsp;&nbsp;&nbsp;&nbsp;&nbsp;&nbsp;&nbsp;&nbsp;&nbsp;&nbsp;&nbsp;&nbsp;&nbsp;&nbsp;&nbsp;&nbsp;&nbsp;&nbsp;&nbsp;&nbsp;&nbsp;&nbsp;|<br>\n",
    "\\+&nbsp;&nbsp; -&nbsp;&nbsp; -&nbsp;&nbsp; -&nbsp;&nbsp; -&nbsp;&nbsp; +&nbsp;&nbsp; -&nbsp;&nbsp; -&nbsp;&nbsp; -&nbsp;&nbsp; -&nbsp;&nbsp; +\n",
    "\n",
    "\n",
    "Hint: to print more than one value on a line, you can print a comma-separated sequence of values:\n",
    "\n",
    "print('+', '-')\n",
    "\n",
    "By default, print advances to the next line, but you can override that behavior and put a space at the end, like this:\n",
    "\n",
    "print('+', end=' ')\n",
    "print('-')\n",
    "\n",
    "The output of these statements is '+ -'.\n",
    "\n",
    "A print statement with no argument ends the current line and goes to the next line.\n",
    "\n",
    "Write a function that draws a similar grid with four rows and four columns.\n",
    "\n",
    "Solution: http://thinkpython2.com/code/grid.py. Credit: This exercise is based on an exercise in Oualline, Practical C Programming, Third Edition, O’Reilly Media, 1997."
   ]
  },
  {
   "cell_type": "code",
   "execution_count": 11,
   "metadata": {
    "collapsed": false
   },
   "outputs": [
    {
     "name": "stdout",
     "output_type": "stream",
     "text": [
      "+ -  -  -  - + -  -  -  - +\n",
      "|            |            |\n",
      "|            |            |\n",
      "|            |            |\n",
      "|            |            |\n",
      "+ -  -  -  - + -  -  -  - +\n",
      "|            |            |\n",
      "|            |            |\n",
      "|            |            |\n",
      "|            |            |\n",
      "+ -  -  -  - + -  -  -  - +\n"
     ]
    }
   ],
   "source": [
    "def print_grid():\n",
    "    print('+' + (' - '*4) + '+' + (' - '*4) + '+')\n",
    "    do_four(print,(\"|\" + ('   ' * 4) + '|' + ('   '*4) + '|'))\n",
    "    print('+' + (' - '*4) + '+' + (' - '*4) + '+')\n",
    "    do_four(print,(\"|\" + ('   ' * 4) + '|' + ('   '*4) + '|'))\n",
    "    print('+' + (' - '*4) + '+' + (' - '*4) + '+')\n",
    "    \n",
    "print_grid()"
   ]
  },
  {
   "cell_type": "code",
   "execution_count": 17,
   "metadata": {
    "collapsed": false
   },
   "outputs": [
    {
     "name": "stdout",
     "output_type": "stream",
     "text": [
      "+ -  -  -  - + -  -  -  - + -  -  -  - + -  -  -  - +\n",
      "|            |            |            |            |\n",
      "|            |            |            |            |\n",
      "|            |            |            |            |\n",
      "|            |            |            |            |\n",
      "+ -  -  -  - + -  -  -  - + -  -  -  - + -  -  -  - +\n",
      "|            |            |            |            |\n",
      "|            |            |            |            |\n",
      "|            |            |            |            |\n",
      "|            |            |            |            |\n",
      "+ -  -  -  - + -  -  -  - + -  -  -  - + -  -  -  - +\n",
      "|            |            |            |            |\n",
      "|            |            |            |            |\n",
      "|            |            |            |            |\n",
      "|            |            |            |            |\n",
      "+ -  -  -  - + -  -  -  - + -  -  -  - + -  -  -  - +\n",
      "|            |            |            |            |\n",
      "|            |            |            |            |\n",
      "|            |            |            |            |\n",
      "|            |            |            |            |\n",
      "+ -  -  -  - + -  -  -  - + -  -  -  - + -  -  -  - +\n"
     ]
    }
   ],
   "source": [
    "def print_bigger_grid():\n",
    "    print('+' + (' - '*4) + '+' + (' - '*4) + '+'+ (' - '*4) + '+' + (' - '*4) + '+')\n",
    "    do_four(print,(\"|\" + ('   ' * 4) + '|' + ('   '*4) + '|'+ ('   ' * 4) + '|' + ('   '*4) + '|'))\n",
    "    print('+' + (' - '*4) + '+' + (' - '*4) + '+'+ (' - '*4) + '+' + (' - '*4) + '+')\n",
    "    do_four(print,(\"|\" + ('   ' * 4) + '|' + ('   '*4) + '|'+ ('   ' * 4) + '|' + ('   '*4) + '|'))\n",
    "    print('+' + (' - '*4) + '+' + (' - '*4) + '+'+ (' - '*4) + '+' + (' - '*4) + '+')\n",
    "    do_four(print,(\"|\" + ('   ' * 4) + '|' + ('   '*4) + '|'+ ('   ' * 4) + '|' + ('   '*4) + '|'))\n",
    "    print('+' + (' - '*4) + '+' + (' - '*4) + '+'+ (' - '*4) + '+' + (' - '*4) + '+')\n",
    "    do_four(print,(\"|\" + ('   ' * 4) + '|' + ('   '*4) + '|'+ ('   ' * 4) + '|' + ('   '*4) + '|'))\n",
    "    print('+' + (' - '*4) + '+' + (' - '*4) + '+'+ (' - '*4) + '+' + (' - '*4) + '+')\n",
    "print_bigger_grid()"
   ]
  },
  {
   "cell_type": "code",
   "execution_count": null,
   "metadata": {
    "collapsed": true
   },
   "outputs": [],
   "source": []
  }
 ],
 "metadata": {
  "kernelspec": {
   "display_name": "Python 3",
   "language": "python",
   "name": "python3"
  },
  "language_info": {
   "codemirror_mode": {
    "name": "ipython",
    "version": 3
   },
   "file_extension": ".py",
   "mimetype": "text/x-python",
   "name": "python",
   "nbconvert_exporter": "python",
   "pygments_lexer": "ipython3",
   "version": "3.6.0"
  }
 },
 "nbformat": 4,
 "nbformat_minor": 2
}
