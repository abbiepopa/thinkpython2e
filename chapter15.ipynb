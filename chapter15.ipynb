{
 "cells": [
  {
   "cell_type": "code",
   "execution_count": 1,
   "metadata": {
    "collapsed": true
   },
   "outputs": [],
   "source": [
    "class Point:\n",
    "    \"\"\"Represents a point in 2-D space.\n",
    "\n",
    "    attributes: x, y\n",
    "    \"\"\""
   ]
  },
  {
   "cell_type": "code",
   "execution_count": 2,
   "metadata": {
    "collapsed": true
   },
   "outputs": [],
   "source": [
    "test = Point()"
   ]
  },
  {
   "cell_type": "code",
   "execution_count": 3,
   "metadata": {},
   "outputs": [
    {
     "data": {
      "text/plain": [
       "<__main__.Point at 0x10e8adcc0>"
      ]
     },
     "execution_count": 3,
     "metadata": {},
     "output_type": "execute_result"
    }
   ],
   "source": [
    "test"
   ]
  },
  {
   "cell_type": "code",
   "execution_count": 4,
   "metadata": {
    "collapsed": true
   },
   "outputs": [],
   "source": [
    "test.x = 3.0"
   ]
  },
  {
   "cell_type": "code",
   "execution_count": 5,
   "metadata": {
    "collapsed": true
   },
   "outputs": [],
   "source": [
    "test.y = 4.0"
   ]
  },
  {
   "cell_type": "code",
   "execution_count": 6,
   "metadata": {},
   "outputs": [
    {
     "data": {
      "text/plain": [
       "3.0"
      ]
     },
     "execution_count": 6,
     "metadata": {},
     "output_type": "execute_result"
    }
   ],
   "source": [
    "test.x"
   ]
  },
  {
   "cell_type": "code",
   "execution_count": 8,
   "metadata": {},
   "outputs": [
    {
     "data": {
      "text/plain": [
       "2"
      ]
     },
     "execution_count": 8,
     "metadata": {},
     "output_type": "execute_result"
    }
   ],
   "source": [
    "max(1,2)"
   ]
  },
  {
   "cell_type": "code",
   "execution_count": 9,
   "metadata": {
    "collapsed": true
   },
   "outputs": [],
   "source": [
    "def distance_between_points(p1, p2):\n",
    "    from math import sqrt\n",
    "    leg1 = (p2.x - p1.x)\n",
    "    leg2 = (p2.y - p1.y)\n",
    "    hypo = sqrt(leg1**2 + leg2**2)\n",
    "    return(hypo)"
   ]
  },
  {
   "cell_type": "code",
   "execution_count": 10,
   "metadata": {},
   "outputs": [
    {
     "data": {
      "text/plain": [
       "4.47213595499958"
      ]
     },
     "execution_count": 10,
     "metadata": {},
     "output_type": "execute_result"
    }
   ],
   "source": [
    "test2 = Point()\n",
    "test2.x = 1\n",
    "test2.y = 8\n",
    "\n",
    "distance_between_points(test, test2)"
   ]
  },
  {
   "cell_type": "code",
   "execution_count": 11,
   "metadata": {
    "collapsed": true
   },
   "outputs": [],
   "source": [
    "class Rectangle:\n",
    "    \"\"\"Represents a rectangle. \n",
    "\n",
    "    attributes: width, height, corner.\n",
    "    \"\"\""
   ]
  },
  {
   "cell_type": "code",
   "execution_count": 12,
   "metadata": {
    "collapsed": true
   },
   "outputs": [],
   "source": [
    "box = Rectangle()\n",
    "box.width = 100.0\n",
    "box.height = 200.0\n",
    "box.corner = Point()\n",
    "box.corner.x = 0.0\n",
    "box.corner.y = 0.0"
   ]
  },
  {
   "cell_type": "code",
   "execution_count": 14,
   "metadata": {},
   "outputs": [
    {
     "name": "stdout",
     "output_type": "stream",
     "text": [
      "3.0 5.0\n",
      "6.0 10.0\n",
      "9.0 15.0\n"
     ]
    }
   ],
   "source": [
    "def move_rectangle(rect, dx, dy):\n",
    "    rect.corner.x += dx\n",
    "    rect.corner.y += dy\n",
    "    \n",
    "print(box.corner.x, box.corner.y)\n",
    "\n",
    "move_rectangle(box, 3,5)\n",
    "\n",
    "print(box.corner.x, box.corner.y)\n",
    "\n",
    "move_rectangle(box, 3,5)\n",
    "\n",
    "print(box.corner.x, box.corner.y)"
   ]
  },
  {
   "cell_type": "code",
   "execution_count": 15,
   "metadata": {},
   "outputs": [
    {
     "name": "stdout",
     "output_type": "stream",
     "text": [
      "9.0 15.0\n",
      "9.0 15.0\n",
      "13.0 21.0\n"
     ]
    }
   ],
   "source": [
    "def new_move_rectangle(rect, dx, dy):\n",
    "    import copy\n",
    "    boxman = copy.deepcopy(rect)\n",
    "    boxman.corner.x += dx\n",
    "    boxman.corner.y += dy\n",
    "    return(boxman)\n",
    "\n",
    "print(box.corner.x, box.corner.y)\n",
    "\n",
    "box2 = new_move_rectangle(box, 4,6)\n",
    "\n",
    "print(box.corner.x, box.corner.y)\n",
    "print(box2.corner.x, box2.corner.y)"
   ]
  },
  {
   "cell_type": "code",
   "execution_count": null,
   "metadata": {
    "collapsed": true
   },
   "outputs": [],
   "source": []
  }
 ],
 "metadata": {
  "kernelspec": {
   "display_name": "Python 3",
   "language": "python",
   "name": "python3"
  },
  "language_info": {
   "codemirror_mode": {
    "name": "ipython",
    "version": 3
   },
   "file_extension": ".py",
   "mimetype": "text/x-python",
   "name": "python",
   "nbconvert_exporter": "python",
   "pygments_lexer": "ipython3",
   "version": "3.5.3"
  }
 },
 "nbformat": 4,
 "nbformat_minor": 2
}
