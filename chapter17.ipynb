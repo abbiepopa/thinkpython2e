{
 "cells": [
  {
   "cell_type": "code",
   "execution_count": 4,
   "metadata": {
    "collapsed": true
   },
   "outputs": [],
   "source": [
    "class Time:\n",
    "    \"\"\"Represents the time of day.\n",
    "       \n",
    "    attributes: hour, minute, second\n",
    "    \"\"\"\n",
    "    def time_to_int(self):\n",
    "        minutes = self.hour * 60 + self.minute\n",
    "        seconds = minutes * 60 + self.second\n",
    "        return seconds"
   ]
  },
  {
   "cell_type": "code",
   "execution_count": 5,
   "metadata": {
    "collapsed": true
   },
   "outputs": [],
   "source": [
    "start = Time()\n",
    "start.hour = 9\n",
    "start.minute = 45\n",
    "start.second = 0"
   ]
  },
  {
   "cell_type": "code",
   "execution_count": 6,
   "metadata": {},
   "outputs": [
    {
     "data": {
      "text/plain": [
       "35100"
      ]
     },
     "execution_count": 6,
     "metadata": {},
     "output_type": "execute_result"
    }
   ],
   "source": [
    "start.time_to_int()"
   ]
  },
  {
   "cell_type": "code",
   "execution_count": 49,
   "metadata": {},
   "outputs": [],
   "source": [
    "class Point:\n",
    "    \"\"\"Represents a point in 2-D space.\n",
    "\n",
    "    attributes: x, y\n",
    "    \"\"\"\n",
    "    def __init__(self, x=0, y=0):\n",
    "        self.x = x\n",
    "        self.y = y\n",
    "        \n",
    "    def __str__(self):\n",
    "        return '%d, %d' % (self.x, self.y)\n",
    "    \n",
    "    def __add__(self, other):\n",
    "        if isinstance(other, Point):\n",
    "            return self.point_add(other)\n",
    "        else:\n",
    "            return self.tuple_add(other)\n",
    "        \n",
    "    def __radd__(self,other):\n",
    "        return self.__add__(other)\n",
    "        \n",
    "    def point_add(self, other):\n",
    "        new_pt = Point((self.x + other.x), (self.y + other.y))\n",
    "        return new_pt\n",
    "    \n",
    "    def tuple_add(self, t):\n",
    "        new_pt = Point((self.x + t[0]), (self.y + t[1]))\n",
    "        return new_pt"
   ]
  },
  {
   "cell_type": "code",
   "execution_count": 61,
   "metadata": {},
   "outputs": [
    {
     "name": "stdout",
     "output_type": "stream",
     "text": [
      "x is 0 and y is 0\n",
      "x is 1 and y is 0\n",
      "x is 1 and y is 2\n"
     ]
    }
   ],
   "source": [
    "test_pt = Point()\n",
    "print('x is %d and y is %d' % (test_pt.x, test_pt.y))\n",
    "\n",
    "tp2 = Point(1)\n",
    "print('x is %d and y is %d' % (tp2.x, tp2.y))\n",
    "\n",
    "tp3 = Point(1, 2)\n",
    "print('x is %d and y is %d' % (tp3.x, tp3.y))"
   ]
  },
  {
   "cell_type": "code",
   "execution_count": 62,
   "metadata": {},
   "outputs": [
    {
     "name": "stdout",
     "output_type": "stream",
     "text": [
      "1, 2\n",
      "0, 0\n",
      "2, 2\n"
     ]
    }
   ],
   "source": [
    "print(tp3)\n",
    "\n",
    "print(test_pt)\n",
    "\n",
    "print(tp2 + tp3)"
   ]
  },
  {
   "cell_type": "code",
   "execution_count": 63,
   "metadata": {},
   "outputs": [
    {
     "name": "stdout",
     "output_type": "stream",
     "text": [
      "2, 2\n",
      "2, 1\n",
      "2, 1\n"
     ]
    }
   ],
   "source": [
    "print(tp2 + tp3)\n",
    "\n",
    "print(tp2 + (1,1))\n",
    "\n",
    "print((1,1) + tp2)"
   ]
  },
  {
   "cell_type": "code",
   "execution_count": null,
   "metadata": {
    "collapsed": true
   },
   "outputs": [],
   "source": []
  }
 ],
 "metadata": {
  "kernelspec": {
   "display_name": "Python 3",
   "language": "python",
   "name": "python3"
  },
  "language_info": {
   "codemirror_mode": {
    "name": "ipython",
    "version": 3
   },
   "file_extension": ".py",
   "mimetype": "text/x-python",
   "name": "python",
   "nbconvert_exporter": "python",
   "pygments_lexer": "ipython3",
   "version": "3.5.3"
  }
 },
 "nbformat": 4,
 "nbformat_minor": 2
}
