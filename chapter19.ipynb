{
 "cells": [
  {
   "cell_type": "code",
   "execution_count": 3,
   "metadata": {},
   "outputs": [
    {
     "name": "stdout",
     "output_type": "stream",
     "text": [
      "True\n",
      "False\n"
     ]
    }
   ],
   "source": [
    "def avoids(s, word):\n",
    "    for letter in s:\n",
    "        if letter in word:\n",
    "            return False\n",
    "    return True\n",
    "\n",
    "def uses_all(s, word):\n",
    "    for letter in s:\n",
    "        if avoids(letter, word):\n",
    "            return False\n",
    "    return True\n",
    "\n",
    "print(uses_all('cat','cottage'))\n",
    "print(uses_all('cath','cottage'))"
   ]
  },
  {
   "cell_type": "code",
   "execution_count": 4,
   "metadata": {},
   "outputs": [
    {
     "name": "stdout",
     "output_type": "stream",
     "text": [
      "True\n",
      "False\n"
     ]
    }
   ],
   "source": [
    "def uses_all_all(s, word):\n",
    "    return all(letter in word for letter in s)\n",
    "\n",
    "print(uses_all_all('cat','cottage'))\n",
    "print(uses_all_all('cath','cottage'))"
   ]
  },
  {
   "cell_type": "code",
   "execution_count": 5,
   "metadata": {},
   "outputs": [
    {
     "name": "stdout",
     "output_type": "stream",
     "text": [
      "False\n",
      "True\n"
     ]
    }
   ],
   "source": [
    "def avoids(s, word):\n",
    "    for letter in s:\n",
    "        if letter in word:\n",
    "            return False\n",
    "    return True\n",
    "\n",
    "print(avoids('abcde','flew'))\n",
    "print(avoids('abcde','fly'))"
   ]
  },
  {
   "cell_type": "code",
   "execution_count": 6,
   "metadata": {},
   "outputs": [
    {
     "name": "stdout",
     "output_type": "stream",
     "text": [
      "False\n",
      "True\n"
     ]
    }
   ],
   "source": [
    "def avoids_set(s, word):\n",
    "    return((set(s)-set(word))==(set(s)))\n",
    "\n",
    "print(avoids_set('abcde','flew'))\n",
    "print(avoids_set('abcde','fly'))"
   ]
  },
  {
   "cell_type": "code",
   "execution_count": 8,
   "metadata": {},
   "outputs": [
    {
     "name": "stdout",
     "output_type": "stream",
     "text": [
      "Point(x=0, y=0)\n"
     ]
    }
   ],
   "source": [
    "from collections import namedtuple\n",
    "Point = namedtuple('Point', ['x', 'y'])\n",
    "point = Point(0,0)\n",
    "print(point)"
   ]
  },
  {
   "cell_type": "code",
   "execution_count": null,
   "metadata": {
    "collapsed": true
   },
   "outputs": [],
   "source": []
  }
 ],
 "metadata": {
  "kernelspec": {
   "display_name": "Python 3",
   "language": "python",
   "name": "python3"
  },
  "language_info": {
   "codemirror_mode": {
    "name": "ipython",
    "version": 3
   },
   "file_extension": ".py",
   "mimetype": "text/x-python",
   "name": "python",
   "nbconvert_exporter": "python",
   "pygments_lexer": "ipython3",
   "version": "3.5.3"
  }
 },
 "nbformat": 4,
 "nbformat_minor": 2
}
