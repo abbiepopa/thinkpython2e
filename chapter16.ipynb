{
 "cells": [
  {
   "cell_type": "code",
   "execution_count": 1,
   "metadata": {
    "collapsed": true
   },
   "outputs": [],
   "source": [
    "class Time:\n",
    "    \"\"\"Represents the time of day.\n",
    "       \n",
    "    attributes: hour, minute, second\n",
    "    \"\"\"\n"
   ]
  },
  {
   "cell_type": "code",
   "execution_count": 2,
   "metadata": {
    "collapsed": true
   },
   "outputs": [],
   "source": [
    "time = Time()\n",
    "time.hour = 11\n",
    "time.minute = 59\n",
    "time.second = 30"
   ]
  },
  {
   "cell_type": "code",
   "execution_count": 6,
   "metadata": {},
   "outputs": [
    {
     "name": "stdout",
     "output_type": "stream",
     "text": [
      "11:59:30\n"
     ]
    }
   ],
   "source": [
    "def print_time(t):\n",
    "    print('%.2d:%.2d:%.2d' % (t.hour, t.minute, t.second))\n",
    "    \n",
    "print_time(time)"
   ]
  },
  {
   "cell_type": "code",
   "execution_count": 10,
   "metadata": {},
   "outputs": [
    {
     "data": {
      "text/plain": [
       "False"
      ]
     },
     "execution_count": 10,
     "metadata": {},
     "output_type": "execute_result"
    }
   ],
   "source": [
    "def is_after(t1, t2):\n",
    "    time1 = ('%.2d:%.2d:%.2d' % (t1.hour, t1.minute, t1.second))\n",
    "    time2 = ('%.2d:%.2d:%.2d' % (t2.hour, t2.minute, t2.second))\n",
    "    return(time1 > time2)\n",
    "\n",
    "\n",
    "time1 = Time()\n",
    "time1.hour = 10\n",
    "time1.minute = 59\n",
    "time1.second = 35\n",
    "\n",
    "is_after(time1, time)"
   ]
  },
  {
   "cell_type": "code",
   "execution_count": 51,
   "metadata": {
    "collapsed": true
   },
   "outputs": [],
   "source": [
    "def increment(time, seconds):\n",
    "    time.second += seconds\n",
    "    if time.second >= 60:\n",
    "        time.minute = time.minute + time.second//60\n",
    "        time.second = time.second % 60\n",
    "\n",
    "    if time.minute >= 60:\n",
    "        time.hour += time.minute//60\n",
    "        time.minute = time.minute % 60"
   ]
  },
  {
   "cell_type": "code",
   "execution_count": 52,
   "metadata": {},
   "outputs": [],
   "source": [
    "time = Time()\n",
    "time.hour = 9\n",
    "time.minute = 45\n",
    "time.second = 30"
   ]
  },
  {
   "cell_type": "code",
   "execution_count": 53,
   "metadata": {},
   "outputs": [],
   "source": [
    "increment(time, 950)"
   ]
  },
  {
   "cell_type": "code",
   "execution_count": 54,
   "metadata": {},
   "outputs": [
    {
     "name": "stdout",
     "output_type": "stream",
     "text": [
      "10:01:20\n"
     ]
    }
   ],
   "source": [
    "print_time(time)"
   ]
  },
  {
   "cell_type": "code",
   "execution_count": 55,
   "metadata": {
    "collapsed": true
   },
   "outputs": [],
   "source": [
    "def pure_increment(time, seconds):\n",
    "    import copy\n",
    "    new_t = copy.deepcopy(time)\n",
    "    new_t.second += seconds\n",
    "    if new_t.second >= 60:\n",
    "        new_t.minute = new_t.minute + new_t.second//60\n",
    "        new_t.second = new_t.second % 60\n",
    "\n",
    "    if new_t.minute >= 60:\n",
    "        new_t.hour += new_t.minute//60\n",
    "        new_t.minute = new_t.minute % 60\n",
    "        \n",
    "    return(new_t)"
   ]
  },
  {
   "cell_type": "code",
   "execution_count": 56,
   "metadata": {},
   "outputs": [
    {
     "name": "stdout",
     "output_type": "stream",
     "text": [
      "09:45:30\n",
      "10:01:20\n"
     ]
    }
   ],
   "source": [
    "time = Time()\n",
    "time.hour = 9\n",
    "time.minute = 45\n",
    "time.second = 30\n",
    "\n",
    "time2 = pure_increment(time, 950)\n",
    "\n",
    "print_time(time)\n",
    "print_time(time2)"
   ]
  },
  {
   "cell_type": "code",
   "execution_count": 57,
   "metadata": {
    "collapsed": true
   },
   "outputs": [],
   "source": [
    "def time_to_int(time):\n",
    "    minutes = time.hour * 60 + time.minute\n",
    "    seconds = minutes * 60 + time.second\n",
    "    return seconds\n",
    "\n",
    "def int_to_time(seconds):\n",
    "    time = Time()\n",
    "    minutes, time.second = divmod(seconds, 60)\n",
    "    time.hour, time.minute = divmod(minutes, 60)\n",
    "    return time"
   ]
  },
  {
   "cell_type": "code",
   "execution_count": 58,
   "metadata": {
    "collapsed": true
   },
   "outputs": [],
   "source": [
    "def int_increment(time, seconds):\n",
    "    t2 = time_to_int(time)\n",
    "    t3 = t2 + seconds\n",
    "    return(int_to_time(t3))"
   ]
  },
  {
   "cell_type": "code",
   "execution_count": 59,
   "metadata": {},
   "outputs": [
    {
     "name": "stdout",
     "output_type": "stream",
     "text": [
      "09:45:30\n",
      "10:01:20\n",
      "10:01:20\n"
     ]
    }
   ],
   "source": [
    "time3 = int_increment(time, 950)\n",
    "print_time(time)\n",
    "print_time(time2)\n",
    "print_time(time3)"
   ]
  },
  {
   "cell_type": "code",
   "execution_count": null,
   "metadata": {
    "collapsed": true
   },
   "outputs": [],
   "source": []
  }
 ],
 "metadata": {
  "kernelspec": {
   "display_name": "Python 3",
   "language": "python",
   "name": "python3"
  },
  "language_info": {
   "codemirror_mode": {
    "name": "ipython",
    "version": 3
   },
   "file_extension": ".py",
   "mimetype": "text/x-python",
   "name": "python",
   "nbconvert_exporter": "python",
   "pygments_lexer": "ipython3",
   "version": "3.5.3"
  }
 },
 "nbformat": 4,
 "nbformat_minor": 2
}
